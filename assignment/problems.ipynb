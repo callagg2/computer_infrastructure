{
 "cells": [
  {
   "cell_type": "markdown",
   "id": "439810b3",
   "metadata": {
    "vscode": {
     "languageId": "plaintext"
    }
   },
   "source": [
    "# Problems Notebook"
   ]
  },
  {
   "cell_type": "markdown",
   "id": "17d240e6",
   "metadata": {},
   "source": [
    "<p>Computer Infrastructure </p>   <p>Author: Gerry Callaghan</p>"
   ]
  },
  {
   "cell_type": "markdown",
   "id": "79e6beea",
   "metadata": {},
   "source": [
    "### Problem 1: Data from yfinance"
   ]
  },
  {
   "cell_type": "code",
   "execution_count": 32,
   "id": "40faec65",
   "metadata": {},
   "outputs": [],
   "source": [
    "# Dates and times - we will use this package to allow us format dates into strings for filenames.\n",
    "import datetime as dt\n",
    "\n",
    "# data frames - we will use pandas to handle tabular data imported from Yahoo Finance.\n",
    "import pandas as pd\n",
    "\n",
    "# plot graphs - we will use matplotlib to plot graphs.\n",
    "import matplotlib.pyplot as plt \n",
    "\n",
    "# Yahoo Finance is not part of the cental python repository \n",
    "# but is an open-source package available that can be installed via conda-forge.\n",
    "# This is where we import the yfinance package to allow us to download stock data.\n",
    "import yfinance as yf\n",
    "\n",
    "\n",
    "# There are known issues with yfinance and the default user-agent, so i need to spoof my user-agent\n",
    "# You can read more about this issue here:\n",
    "# url= \"https://www.reddit.com/r/learnpython/comments/1kc3miq/yfinance_error_yfratelimiterrortoo_many_requests/\"\n",
    "# Details on how requests from the curl_cffi package can be imported url =\"https://pypi.org/project/curl-cffi/\"\n",
    "import curl_cffi.requests as requests\n",
    "session = requests.Session(impersonate=\"chrome\")\n"
   ]
  },
  {
   "cell_type": "code",
   "execution_count": 30,
   "id": "ecdd5ee7",
   "metadata": {},
   "outputs": [],
   "source": [
    "'''\n",
    "# Let's write a function called get_data() that will download stock data from Yahoo Finance.\n",
    "# The function will take our \"Fangs\" stock ticker symbols as input, and return a pandas DataFrame\n",
    "# containing the stock data for that ticker.\n",
    "'''\n",
    "\n",
    "# From here URL= \"https://ranaroussi.github.io/yfinance/\", \n",
    "# it says that for multiple tickers we need only have whitespace between each ticker symbol.\n",
    "# That is, it takes a single string with spaces between each ticker symbol.\n",
    "# So, our function looks like this, remember we are passing in our session object to avoid user-agent issues.\n",
    "tickers = yf.Tickers('META AAPL AMZN NFLX GOOG', session=session)\n"
   ]
  },
  {
   "cell_type": "code",
   "execution_count": 29,
   "id": "2f337bba",
   "metadata": {},
   "outputs": [],
   "source": [
    "# Let's now confirm that indeed yfinance has understood our ticker symbols\n",
    "#tickers.tickers['META'].info"
   ]
  },
  {
   "cell_type": "code",
   "execution_count": 33,
   "id": "dd10d9ef",
   "metadata": {},
   "outputs": [
    {
     "name": "stderr",
     "output_type": "stream",
     "text": [
      "Failed to get ticker 'NFLX' reason: 'str' object has no attribute 'name'\n",
      "[                       0%                       ]Failed to get ticker 'META' reason: 'str' object has no attribute 'name'\n",
      "[**********************60%****                   ]  3 of 5 completedFailed to get ticker 'AMZN' reason: 'str' object has no attribute 'name'\n",
      "[*********************100%***********************]  5 of 5 completed\n",
      "\n",
      "5 Failed downloads:\n",
      "['NFLX', 'GOOG', 'META', 'AAPL', 'AMZN']: AttributeError(\"'str' object has no attribute 'name'\")\n"
     ]
    }
   ],
   "source": [
    "df = yf.download(['META', 'AAPL', 'AMZN', 'NFLX', 'GOOG'], period='5d', interval='1h', session=session)\n",
    "\n",
    "\n",
    "#in the previous command, we had no comma between the stock tickers, \n",
    "#but here, because they are in a tuple, we do, and each have apostrophes to indicate they are strings\n",
    "# the function is download(),and we it takes variables, ticker/tickers and period\n",
    "\n",
    "# What is the period, 5 days in our case. From URL= \"https://algotrading101.com/learn/yfinance-guide/\" 5 days is '5d', \n",
    "# while we want hourly data, so we set interval='1h' for 1 hour intervals.\n",
    "#df"
   ]
  },
  {
   "cell_type": "code",
   "execution_count": 12,
   "id": "d28e97e5",
   "metadata": {},
   "outputs": [
    {
     "name": "stderr",
     "output_type": "stream",
     "text": [
      "[*********************100%***********************]  2 of 3 completed\n",
      "\n",
      "3 Failed downloads:\n",
      "['AAPL', 'MSFT', 'GOOG']: AttributeError(\"'str' object has no attribute 'name'\")\n"
     ]
    }
   ],
   "source": [
    "df = yf.download(['MSFT','AAPL', 'GOOG'],period='1mo')\n",
    "# details of this function can be found here https://ranaroussi.github.io/yfinance/reference/api/yfinance.download.html\n",
    "# it says the format of the command is\n",
    "# yfinance.download(tickers, start=None, end=None, actions=False, threads=True, ignore_tz=None, group_by='column', auto_adjust=None, \n",
    "# back_adjust=False, repair=False, keepna=False, progress=True, period=None, interval='1d', prepost=False, proxy=<object object>, \n",
    "# rounding=False, timeout=10, session=None, multi_level_index=True) \n",
    "\n",
    "# We want to have a copy of the data, copy it to a dataframe called df"
   ]
  },
  {
   "cell_type": "code",
   "execution_count": 13,
   "id": "e7569348",
   "metadata": {},
   "outputs": [
    {
     "data": {
      "text/html": [
       "<div>\n",
       "<style scoped>\n",
       "    .dataframe tbody tr th:only-of-type {\n",
       "        vertical-align: middle;\n",
       "    }\n",
       "\n",
       "    .dataframe tbody tr th {\n",
       "        vertical-align: top;\n",
       "    }\n",
       "\n",
       "    .dataframe thead tr th {\n",
       "        text-align: left;\n",
       "    }\n",
       "\n",
       "    .dataframe thead tr:last-of-type th {\n",
       "        text-align: right;\n",
       "    }\n",
       "</style>\n",
       "<table border=\"1\" class=\"dataframe\">\n",
       "  <thead>\n",
       "    <tr>\n",
       "      <th>Price</th>\n",
       "      <th colspan=\"3\" halign=\"left\">Adj Close</th>\n",
       "      <th colspan=\"3\" halign=\"left\">Close</th>\n",
       "      <th colspan=\"3\" halign=\"left\">High</th>\n",
       "      <th colspan=\"3\" halign=\"left\">Low</th>\n",
       "      <th colspan=\"3\" halign=\"left\">Open</th>\n",
       "      <th colspan=\"3\" halign=\"left\">Volume</th>\n",
       "    </tr>\n",
       "    <tr>\n",
       "      <th>Ticker</th>\n",
       "      <th>AAPL</th>\n",
       "      <th>GOOG</th>\n",
       "      <th>MSFT</th>\n",
       "      <th>AAPL</th>\n",
       "      <th>GOOG</th>\n",
       "      <th>MSFT</th>\n",
       "      <th>AAPL</th>\n",
       "      <th>GOOG</th>\n",
       "      <th>MSFT</th>\n",
       "      <th>AAPL</th>\n",
       "      <th>GOOG</th>\n",
       "      <th>MSFT</th>\n",
       "      <th>AAPL</th>\n",
       "      <th>GOOG</th>\n",
       "      <th>MSFT</th>\n",
       "      <th>AAPL</th>\n",
       "      <th>GOOG</th>\n",
       "      <th>MSFT</th>\n",
       "    </tr>\n",
       "    <tr>\n",
       "      <th>Date</th>\n",
       "      <th></th>\n",
       "      <th></th>\n",
       "      <th></th>\n",
       "      <th></th>\n",
       "      <th></th>\n",
       "      <th></th>\n",
       "      <th></th>\n",
       "      <th></th>\n",
       "      <th></th>\n",
       "      <th></th>\n",
       "      <th></th>\n",
       "      <th></th>\n",
       "      <th></th>\n",
       "      <th></th>\n",
       "      <th></th>\n",
       "      <th></th>\n",
       "      <th></th>\n",
       "      <th></th>\n",
       "    </tr>\n",
       "  </thead>\n",
       "  <tbody>\n",
       "  </tbody>\n",
       "</table>\n",
       "</div>"
      ],
      "text/plain": [
       "Empty DataFrame\n",
       "Columns: [(Adj Close, AAPL), (Adj Close, GOOG), (Adj Close, MSFT), (Close, AAPL), (Close, GOOG), (Close, MSFT), (High, AAPL), (High, GOOG), (High, MSFT), (Low, AAPL), (Low, GOOG), (Low, MSFT), (Open, AAPL), (Open, GOOG), (Open, MSFT), (Volume, AAPL), (Volume, GOOG), (Volume, MSFT)]\n",
       "Index: []"
      ]
     },
     "execution_count": 13,
     "metadata": {},
     "output_type": "execute_result"
    }
   ],
   "source": [
    "df"
   ]
  },
  {
   "cell_type": "code",
   "execution_count": 15,
   "id": "df51b297",
   "metadata": {},
   "outputs": [
    {
     "data": {
      "text/plain": [
       "pandas.core.frame.DataFrame"
      ]
     },
     "execution_count": 15,
     "metadata": {},
     "output_type": "execute_result"
    }
   ],
   "source": [
    "type(df)"
   ]
  },
  {
   "cell_type": "code",
   "execution_count": null,
   "id": "dce50a25",
   "metadata": {},
   "outputs": [
    {
     "name": "stdout",
     "output_type": "stream",
     "text": [
      "None\n"
     ]
    }
   ],
   "source": [
    "# print data as CSV file\n",
    "# https://pandas.pydata.org/docs/reference/api/pandas.DataFrame.to_csv.html\n",
    "#print(df.to_csv('../data/data.csv'))\n"
   ]
  },
  {
   "cell_type": "markdown",
   "id": "b911b572",
   "metadata": {},
   "source": []
  },
  {
   "cell_type": "markdown",
   "id": "52da7726",
   "metadata": {},
   "source": [
    "## Dates and Times"
   ]
  },
  {
   "cell_type": "code",
   "execution_count": 24,
   "id": "fc547640",
   "metadata": {},
   "outputs": [
    {
     "name": "stdout",
     "output_type": "stream",
     "text": [
      "2025-10-18 21:23:48.462617\n"
     ]
    }
   ],
   "source": [
    "# Current date and time\n",
    "now = dt.datetime.now()\n",
    "# docs.python.org/3/library/datetime.html#format-codes \n",
    "print(f\"{now}\")\n"
   ]
  },
  {
   "cell_type": "code",
   "execution_count": 27,
   "id": "033988cc",
   "metadata": {},
   "outputs": [
    {
     "name": "stdout",
     "output_type": "stream",
     "text": [
      "2025-10-18 21:23:48\n",
      "20251018-212348\n"
     ]
    }
   ],
   "source": [
    "# Format date and time\n",
    "print(now.strftime(\"%Y-%m-%d %H:%M:%S\"))\n",
    "# docs.python.org/3/library/datetime.html#strftime-and-strptime-format-codes\n",
    "print(now.strftime(\"%Y%m%d-%H%M%S\"))\n",
    "\n"
   ]
  },
  {
   "cell_type": "code",
   "execution_count": 29,
   "id": "156b7c7d",
   "metadata": {},
   "outputs": [
    {
     "data": {
      "text/plain": [
       "'../data/20251018-212348.csv'"
      ]
     },
     "execution_count": 29,
     "metadata": {},
     "output_type": "execute_result"
    }
   ],
   "source": [
    "# File name\n",
    "\"../data/\" + now.strftime('%Y%m%d-%H%M%S')+'.csv'"
   ]
  },
  {
   "cell_type": "code",
   "execution_count": 31,
   "id": "86fc1e89",
   "metadata": {},
   "outputs": [
    {
     "name": "stdout",
     "output_type": "stream",
     "text": [
      "None\n"
     ]
    }
   ],
   "source": [
    "# print(df.to_csv(\"../data/\" + now.strftime('%Y%m%d-%H%M%S')+'.csv'))\n",
    "\n",
    "print(df.to_csv(\"../data/\" + dt.datetime.now().strftime('%Y%m%d-%H%M%S')+'.csv'))"
   ]
  },
  {
   "cell_type": "code",
   "execution_count": 17,
   "id": "ca54471c",
   "metadata": {},
   "outputs": [
    {
     "data": {
      "text/plain": [
       "MultiIndex([( 'Close', 'AAPL'),\n",
       "            ( 'Close', 'GOOG'),\n",
       "            ( 'Close', 'MSFT'),\n",
       "            (  'High', 'AAPL'),\n",
       "            (  'High', 'GOOG'),\n",
       "            (  'High', 'MSFT'),\n",
       "            (   'Low', 'AAPL'),\n",
       "            (   'Low', 'GOOG'),\n",
       "            (   'Low', 'MSFT'),\n",
       "            (  'Open', 'AAPL'),\n",
       "            (  'Open', 'GOOG'),\n",
       "            (  'Open', 'MSFT'),\n",
       "            ('Volume', 'AAPL'),\n",
       "            ('Volume', 'GOOG'),\n",
       "            ('Volume', 'MSFT')],\n",
       "           names=['Price', 'Ticker'])"
      ]
     },
     "execution_count": 17,
     "metadata": {},
     "output_type": "execute_result"
    }
   ],
   "source": [
    "df.columns"
   ]
  },
  {
   "cell_type": "code",
   "execution_count": 18,
   "id": "6a00c9ec",
   "metadata": {},
   "outputs": [
    {
     "data": {
      "text/plain": [
       "DatetimeIndex(['2025-09-18', '2025-09-19', '2025-09-22', '2025-09-23',\n",
       "               '2025-09-24', '2025-09-25', '2025-09-26', '2025-09-29',\n",
       "               '2025-09-30', '2025-10-01', '2025-10-02', '2025-10-03',\n",
       "               '2025-10-06', '2025-10-07', '2025-10-08', '2025-10-09',\n",
       "               '2025-10-10', '2025-10-13', '2025-10-14', '2025-10-15',\n",
       "               '2025-10-16', '2025-10-17'],\n",
       "              dtype='datetime64[ns]', name='Date', freq=None)"
      ]
     },
     "execution_count": 18,
     "metadata": {},
     "output_type": "execute_result"
    }
   ],
   "source": [
    "df.index\n",
    "# this tells us all the values for the x-axis, which is date and time stamps\n"
   ]
  },
  {
   "cell_type": "code",
   "execution_count": 19,
   "id": "3d09f293",
   "metadata": {},
   "outputs": [
    {
     "data": {
      "text/plain": [
       "<Axes: xlabel='Date'>"
      ]
     },
     "execution_count": 19,
     "metadata": {},
     "output_type": "execute_result"
    },
    {
     "data": {
      "image/png": "[encoded data removed]",
      "text/plain": [
       "<Figure size 640x480 with 1 Axes>"
      ]
     },
     "metadata": {},
     "output_type": "display_data"
    }
   ],
   "source": [
    "df[('Close','MSFT')].plot()\n",
    "#so this plot the closing price for MSFT for one month (October 2025)"
   ]
  },
  {
   "cell_type": "markdown",
   "id": "2dce9244",
   "metadata": {},
   "source": [
    "# end"
   ]
  },
  {
   "cell_type": "code",
   "execution_count": null,
   "id": "eebeaec9",
   "metadata": {},
   "outputs": [],
   "source": []
  }
 ],
 "metadata": {
  "kernelspec": {
   "display_name": "base",
   "language": "python",
   "name": "python3"
  },
  "language_info": {
   "codemirror_mode": {
    "name": "ipython",
    "version": 3
   },
   "file_extension": ".py",
   "mimetype": "text/x-python",
   "name": "python",
   "nbconvert_exporter": "python",
   "pygments_lexer": "ipython3",
   "version": "3.13.5"
  }
 },
 "nbformat": 4,
 "nbformat_minor": 5
}
